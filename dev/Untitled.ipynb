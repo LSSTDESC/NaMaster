{
 "cells": [
  {
   "cell_type": "code",
   "execution_count": 1,
   "metadata": {},
   "outputs": [],
   "source": [
    "%matplotlib inline \n",
    "%load_ext autoreload\n",
    "%autoreload 2\n",
    "%config InlineBackend.figure_format = 'retina' # I use a HiDPI screen"
   ]
  },
  {
   "cell_type": "code",
   "execution_count": 2,
   "metadata": {},
   "outputs": [],
   "source": [
    "from fishchips.experiments import CMB_Primary\n",
    "from fishchips.cosmo import Observables\n",
    "import fishchips.util\n",
    "\n",
    "from classy import Class  # CLASS python wrapper\n",
    "import numpy as np\n",
    "import matplotlib.pyplot as plt"
   ]
  },
  {
   "cell_type": "code",
   "execution_count": 3,
   "metadata": {},
   "outputs": [],
   "source": [
    "# create an Observables object to store information for derivatives\n",
    "\n",
    "pars = np.array( ['omega_b', 'omega_cdm', 'h',  'A_s', 'n_s', 'tau_reio'])\n",
    "centers = np.array([0.02222,  0.1197,  0.69,  2.1955e-9, 0.9655, 0.06])\n",
    "steps = np.array([0.0001,     0.001,    0.01,   0.01e-9, 0.005, 0.02])\n",
    "\n",
    "obs = Observables(parameters=pars,\n",
    "                  fiducial=centers,\n",
    "                  left=centers-steps,\n",
    "                  right=centers+steps)"
   ]
  },
  {
   "cell_type": "code",
   "execution_count": 4,
   "metadata": {},
   "outputs": [],
   "source": [
    "# generate a template CLASS python wrapper configuration\n",
    "classy_template = {'output': 'tCl pCl lCl',\n",
    "                   'l_max_scalars': 2500,\n",
    "                   'lensing': 'yes',\n",
    "                   'non linear': 'halofit'}\n",
    "# add in the fiducial values too\n",
    "classy_template.update(dict(zip(obs.parameters, obs.fiducial)))\n",
    "\n",
    "# generate the fiducial cosmology\n",
    "obs.compute_cosmo(key='fiducial', classy_dict=classy_template)\n",
    "\n",
    "# generate an observables dictionary, looping over parameters\n",
    "for par, par_left, par_right in zip(obs.parameters, obs.left, obs.right):\n",
    "    classy_left = classy_template.copy()\n",
    "    classy_left[par] = par_left\n",
    "    classy_right = classy_template.copy()\n",
    "    classy_right[par] = par_right\n",
    "    # pass the dictionaries full of configurations to get computed\n",
    "    obs.compute_cosmo(key=par + '_left', classy_dict=classy_left)\n",
    "    obs.compute_cosmo(key=par + '_right', classy_dict=classy_right)"
   ]
  },
  {
   "cell_type": "code",
   "execution_count": null,
   "metadata": {},
   "outputs": [],
   "source": []
  },
  {
   "cell_type": "code",
   "execution_count": null,
   "metadata": {},
   "outputs": [],
   "source": []
  }
 ],
 "metadata": {
  "kernelspec": {
   "display_name": "Python 3",
   "language": "python",
   "name": "python3"
  },
  "language_info": {
   "codemirror_mode": {
    "name": "ipython",
    "version": 3
   },
   "file_extension": ".py",
   "mimetype": "text/x-python",
   "name": "python",
   "nbconvert_exporter": "python",
   "pygments_lexer": "ipython3",
   "version": "3.6.6"
  }
 },
 "nbformat": 4,
 "nbformat_minor": 2
}
